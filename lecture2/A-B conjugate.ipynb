{
 "cells": [
  {
   "cell_type": "code",
   "execution_count": 13,
   "id": "75b11022",
   "metadata": {},
   "outputs": [],
   "source": [
    "import scipy as sp\n",
    "from scipy.stats import beta\n",
    "import matplotlib.pylab as plt"
   ]
  },
  {
   "cell_type": "markdown",
   "id": "f808ce75",
   "metadata": {},
   "source": [
    "You want to check the hypothesis that removing an image from an email will increase the click-through rate. The hope that simpler email will look less spammy and encourage users to click. The current conversion rate is about 0.3. \n",
    "\n",
    "You split 300 subscribers into two equal groups, A received email with big picture, B received simpler email. \n",
    "\n",
    "As a result, 36 people from the group A and 50 people from the group B clicked. \n",
    "\n",
    "Is conversion rate of the group B bigger than 0.3? Which hypothesis is likely to perform better - and how better?\n"
   ]
  },
  {
   "cell_type": "markdown",
   "id": "7e4298d2",
   "metadata": {},
   "source": [
    "$H_0: p_b x \\le 0.3$\n",
    "\n",
    "$H_1: p_b x > 0.3 $"
   ]
  },
  {
   "cell_type": "code",
   "execution_count": 4,
   "id": "b37c86b5",
   "metadata": {},
   "outputs": [],
   "source": [
    "n = 300/2\n",
    "a = 3; b = 7\n",
    "k_a = 36\n",
    "k_b = 50"
   ]
  },
  {
   "cell_type": "code",
   "execution_count": 15,
   "id": "a4c5eb5c",
   "metadata": {},
   "outputs": [
    {
     "name": "stdout",
     "output_type": "stream",
     "text": [
      "P(H0) = 0.20 vs P(H1) = 0.80\n"
     ]
    }
   ],
   "source": [
    "# take integrals\n",
    "h0 = beta.cdf(0.3, a + k_b, b + n - k_b )\n",
    "h1 = 1 - beta.cdf(0.3, a + k_b, b + n - k_b )\n",
    "print(f'P(H0) = {h0:.2f} vs P(H1) = {h1:.2f}')"
   ]
  },
  {
   "cell_type": "markdown",
   "id": "fbc3a43f",
   "metadata": {},
   "source": [
    "$H_1: p_b > 0.3$ is way more probable, so our B group has significantrly bigger conversion rate than 0.3. But how is it better than A? We have a closed forms of distributions, let's do some research on them!"
   ]
  },
  {
   "cell_type": "code",
   "execution_count": 52,
   "id": "a4de54ff",
   "metadata": {},
   "outputs": [
    {
     "data": {
      "image/png": "[encoded data removed]",
      "text/plain": [
       "<Figure size 576x288 with 1 Axes>"
      ]
     },
     "metadata": {
      "needs_background": "light"
     },
     "output_type": "display_data"
    }
   ],
   "source": [
    "N = 10000\n",
    "plt.figure(figsize=(8,4))\n",
    "rvs_a = beta.rvs(a + k_a, b + n - k_a, size = N, random_state=41)\n",
    "rvs_b = beta.rvs(a + k_b, b + n - k_b, size = N, random_state=41)\n",
    "plt.hist(rvs_a, bins=100, histtype=\"step\", density=False, label='A group posterior dist')\n",
    "plt.hist(rvs_b, bins=100, histtype=\"step\", density=False, label='B group posterior dist')\n",
    "plt.legend()\n",
    "plt.title('posterior histograms')\n",
    "plt.show()"
   ]
  },
  {
   "cell_type": "code",
   "execution_count": 37,
   "id": "ae61475d",
   "metadata": {},
   "outputs": [
    {
     "name": "stdout",
     "output_type": "stream",
     "text": [
      "B group is in 99.64 percent superior than A\n"
     ]
    }
   ],
   "source": [
    "better_than_a = (rvs_b > rvs_a).sum() / N * 100\n",
    "print(f'B group is in {better_than_a} percent superior than A')"
   ]
  },
  {
   "cell_type": "markdown",
   "id": "5b553b66",
   "metadata": {},
   "source": [
    "Looks promising, but we may have more information. How much is the group B superior than A?\n",
    "\n",
    "For it we may estimate proportions of these two groups:\n",
    "\n",
    "$$\\frac{B\\ samples}{A\\ samples}$$"
   ]
  },
  {
   "cell_type": "code",
   "execution_count": 55,
   "id": "cceca3d7",
   "metadata": {},
   "outputs": [
    {
     "name": "stdout",
     "output_type": "stream",
     "text": [
      "mean: 1.37\n"
     ]
    },
    {
     "data": {
      "image/png": "[encoded data removed]",
      "text/plain": [
       "<Figure size 1152x432 with 1 Axes>"
      ]
     },
     "metadata": {
      "needs_background": "light"
     },
     "output_type": "display_data"
    }
   ],
   "source": [
    "proportion = rvs_b / rvs_a\n",
    "plt.figure(figsize=(16,6))\n",
    "plt.hist(proportion, bins=100, histtype=\"step\", density=False)\n",
    "plt.title('B/A proportion')\n",
    "print(f'mean: {proportion.mean():.2f}')\n",
    "plt.show()"
   ]
  },
  {
   "cell_type": "markdown",
   "id": "ddfc5c76",
   "metadata": {},
   "source": [
    "Now we see that the probability that B is 20 percent worse than A is nearly the same as the probability that A is 100% worse than B! Looks like a bet for me. Don't forget that we've got all this information only from the 2 numbers of A/B test. Compare this amount of information with the results of frequestist Student t-test!"
   ]
  },
  {
   "cell_type": "code",
   "execution_count": null,
   "id": "e4c4f9ef",
   "metadata": {},
   "outputs": [],
   "source": []
  }
 ],
 "metadata": {
  "kernelspec": {
   "display_name": "Python 3",
   "language": "python",
   "name": "python3"
  },
  "language_info": {
   "codemirror_mode": {
    "name": "ipython",
    "version": 3
   },
   "file_extension": ".py",
   "mimetype": "text/x-python",
   "name": "python",
   "nbconvert_exporter": "python",
   "pygments_lexer": "ipython3",
   "version": "3.9.5"
  }
 },
 "nbformat": 4,
 "nbformat_minor": 5
}
