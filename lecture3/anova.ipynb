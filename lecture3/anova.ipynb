{
 "cells": [
  {
   "cell_type": "markdown",
   "id": "c4480f16",
   "metadata": {},
   "source": [
    "You invented a new algorithm for classification. The metrics you use for comparison is Accuracy. The new algorithm is better in term of the Total Accuracy, but really computationally heavier.\n",
    "\n",
    "Should you change it?\n"
   ]
  },
  {
   "cell_type": "code",
   "execution_count": 31,
   "id": "0833e6ab",
   "metadata": {},
   "outputs": [],
   "source": [
    "import numpy as np\n",
    "import scipy as sp\n",
    "import pymc3 as pm\n",
    "import arviz as az"
   ]
  },
  {
   "cell_type": "code",
   "execution_count": 23,
   "id": "92895954",
   "metadata": {},
   "outputs": [],
   "source": [
    "acc_1 = [69.84172683593945, 70.03775288410537, 69.96999543879818, \n",
    "         70.13941506222103, 70.11524519279389, 69.87051262808936, \n",
    "         70.03098900350274, 70.01317015337584, 69.84430576519885, 70.15376236134091]\n",
    "\n",
    "acc_2 = [76.69550304241477, 78.06757527749059, 71.29252044225439, \n",
    "         86.65062956671677, 85.62131067262195, 85.08135776997447, \n",
    "         72.35340551906377, 48.101510299416915, 84.99675411144258, 62.17064407858798]"
   ]
  },
  {
   "cell_type": "code",
   "execution_count": 42,
   "id": "62407e67",
   "metadata": {
    "scrolled": true
   },
   "outputs": [
    {
     "name": "stdout",
     "output_type": "stream",
     "text": [
      "Accurases of algorithms: 70.00168753253656 75.10312107799841\n",
      "STDs of accuraces: 0.11218279461054097 11.709686906945796\n"
     ]
    }
   ],
   "source": [
    "print('Accurases of algorithms:', np.mean(acc_1), np.mean(acc_2))\n",
    "print('STDs of accuraces:', np.std(acc_1), np.std(acc_2))"
   ]
  },
  {
   "cell_type": "code",
   "execution_count": 46,
   "id": "c9f895e7",
   "metadata": {},
   "outputs": [
    {
     "name": "stderr",
     "output_type": "stream",
     "text": [
      "<ipython-input-46-b2f1da15e14f>:16: FutureWarning: In v4.0, pm.sample will return an `arviz.InferenceData` object instead of a `MultiTrace` by default. You can pass return_inferencedata=True or return_inferencedata=False to be safe and silence this warning.\n",
      "  posterior = pm.sample(draws=1000, tune=3000, random_seed=42)#, chains=1, progressbar=False)\n",
      "Auto-assigning NUTS sampler...\n",
      "Initializing NUTS using jitter+adapt_diag...\n",
      "Multiprocess sampling (4 chains in 4 jobs)\n",
      "NUTS: [alpha_1, mu, sigma]\n"
     ]
    },
    {
     "data": {
      "text/html": [
       "\n",
       "    <div>\n",
       "        <style>\n",
       "            /* Turns off some styling */\n",
       "            progress {\n",
       "                /* gets rid of default border in Firefox and Opera. */\n",
       "                border: none;\n",
       "                /* Needs to be in here for Safari polyfill so background images work as expected. */\n",
       "                background-size: auto;\n",
       "            }\n",
       "            .progress-bar-interrupted, .progress-bar-interrupted::-webkit-progress-bar {\n",
       "                background: #F44336;\n",
       "            }\n",
       "        </style>\n",
       "      <progress value='16000' class='' max='16000' style='width:300px; height:20px; vertical-align: middle;'></progress>\n",
       "      100.00% [16000/16000 00:04<00:00 Sampling 4 chains, 0 divergences]\n",
       "    </div>\n",
       "    "
      ],
      "text/plain": [
       "<IPython.core.display.HTML object>"
      ]
     },
     "metadata": {},
     "output_type": "display_data"
    },
    {
     "name": "stderr",
     "output_type": "stream",
     "text": [
      "Sampling 4 chains for 3_000 tune and 1_000 draw iterations (12_000 + 4_000 draws total) took 16 seconds.\n",
      "/Users/ailin/opt/miniconda3/envs/trips/lib/python3.9/site-packages/arviz/data/io_pymc3.py:96: FutureWarning: Using `from_pymc3` without the model will be deprecated in a future release. Not using the model will return less accurate and less useful results. Make sure you use the model argument or call from_pymc3 within a model context.\n",
      "  warnings.warn(\n"
     ]
    },
    {
     "data": {
      "text/html": [
       "<div>\n",
       "<style scoped>\n",
       "    .dataframe tbody tr th:only-of-type {\n",
       "        vertical-align: middle;\n",
       "    }\n",
       "\n",
       "    .dataframe tbody tr th {\n",
       "        vertical-align: top;\n",
       "    }\n",
       "\n",
       "    .dataframe thead th {\n",
       "        text-align: right;\n",
       "    }\n",
       "</style>\n",
       "<table border=\"1\" class=\"dataframe\">\n",
       "  <thead>\n",
       "    <tr style=\"text-align: right;\">\n",
       "      <th></th>\n",
       "      <th>mean</th>\n",
       "      <th>sd</th>\n",
       "      <th>hdi_3%</th>\n",
       "      <th>hdi_97%</th>\n",
       "      <th>mcse_mean</th>\n",
       "      <th>mcse_sd</th>\n",
       "      <th>ess_bulk</th>\n",
       "      <th>ess_tail</th>\n",
       "      <th>r_hat</th>\n",
       "    </tr>\n",
       "  </thead>\n",
       "  <tbody>\n",
       "    <tr>\n",
       "      <th>mu</th>\n",
       "      <td>72.466</td>\n",
       "      <td>2.032</td>\n",
       "      <td>68.670</td>\n",
       "      <td>76.320</td>\n",
       "      <td>0.032</td>\n",
       "      <td>0.023</td>\n",
       "      <td>4063.0</td>\n",
       "      <td>2845.0</td>\n",
       "      <td>1.0</td>\n",
       "    </tr>\n",
       "    <tr>\n",
       "      <th>alpha_1</th>\n",
       "      <td>0.005</td>\n",
       "      <td>0.102</td>\n",
       "      <td>-0.189</td>\n",
       "      <td>0.197</td>\n",
       "      <td>0.002</td>\n",
       "      <td>0.002</td>\n",
       "      <td>4413.0</td>\n",
       "      <td>2888.0</td>\n",
       "      <td>1.0</td>\n",
       "    </tr>\n",
       "    <tr>\n",
       "      <th>sigma</th>\n",
       "      <td>9.196</td>\n",
       "      <td>1.612</td>\n",
       "      <td>6.364</td>\n",
       "      <td>12.186</td>\n",
       "      <td>0.026</td>\n",
       "      <td>0.019</td>\n",
       "      <td>3825.0</td>\n",
       "      <td>2370.0</td>\n",
       "      <td>1.0</td>\n",
       "    </tr>\n",
       "    <tr>\n",
       "      <th>alpha_0</th>\n",
       "      <td>-0.005</td>\n",
       "      <td>0.102</td>\n",
       "      <td>-0.197</td>\n",
       "      <td>0.189</td>\n",
       "      <td>0.002</td>\n",
       "      <td>0.002</td>\n",
       "      <td>4413.0</td>\n",
       "      <td>2888.0</td>\n",
       "      <td>1.0</td>\n",
       "    </tr>\n",
       "    <tr>\n",
       "      <th>adiff</th>\n",
       "      <td>0.011</td>\n",
       "      <td>0.203</td>\n",
       "      <td>-0.378</td>\n",
       "      <td>0.394</td>\n",
       "      <td>0.003</td>\n",
       "      <td>0.003</td>\n",
       "      <td>4413.0</td>\n",
       "      <td>2888.0</td>\n",
       "      <td>1.0</td>\n",
       "    </tr>\n",
       "  </tbody>\n",
       "</table>\n",
       "</div>"
      ],
      "text/plain": [
       "           mean     sd  hdi_3%  hdi_97%  mcse_mean  mcse_sd  ess_bulk  \\\n",
       "mu       72.466  2.032  68.670   76.320      0.032    0.023    4063.0   \n",
       "alpha_1   0.005  0.102  -0.189    0.197      0.002    0.002    4413.0   \n",
       "sigma     9.196  1.612   6.364   12.186      0.026    0.019    3825.0   \n",
       "alpha_0  -0.005  0.102  -0.197    0.189      0.002    0.002    4413.0   \n",
       "adiff     0.011  0.203  -0.378    0.394      0.003    0.003    4413.0   \n",
       "\n",
       "         ess_tail  r_hat  \n",
       "mu         2845.0    1.0  \n",
       "alpha_1    2888.0    1.0  \n",
       "sigma      2370.0    1.0  \n",
       "alpha_0    2888.0    1.0  \n",
       "adiff      2888.0    1.0  "
      ]
     },
     "execution_count": 46,
     "metadata": {},
     "output_type": "execute_result"
    }
   ],
   "source": [
    "data = [acc_1, acc_2]\n",
    "with pm.Model() as anova1:\n",
    "    sigma = pm.Exponential('sigma', lam=1/10)\n",
    "    mu = pm.Normal('mu', mu=0, sigma=100/2)\n",
    "\n",
    "    alphas = [0]*2\n",
    "    alphas[1] = pm.Normal('alpha_1', mu=0., sigma=0.1)\n",
    "    alphas[0] = pm.Deterministic('alpha_0', -alphas[1])\n",
    "\n",
    "    accs = [0]*2\n",
    "    for i in range(2):\n",
    "        accs[i] = pm.Normal(f'acc_{i}', mu=mu+alphas[i], sigma=sigma, observed=data[i])\n",
    "\n",
    "    adiff = pm.Deterministic('adiff', alphas[1]-alphas[0])\n",
    "\n",
    "    posterior = pm.sample(draws=1000, tune=3000, random_seed=42)#, chains=1, progressbar=False)\n",
    "\n",
    "q1 = np.quantile(posterior['adiff'], 0.025)\n",
    "q2 = np.quantile(posterior['adiff'], 0.975)\n",
    "az.summary(posterior, )"
   ]
  },
  {
   "cell_type": "code",
   "execution_count": 47,
   "id": "5fab5fa2",
   "metadata": {},
   "outputs": [
    {
     "name": "stdout",
     "output_type": "stream",
     "text": [
      "-0.3933457910836786 <= adiff <= 0.4125738046032672\n"
     ]
    }
   ],
   "source": [
    "print(f\"{q1} <= adiff <= {q2}\")"
   ]
  },
  {
   "cell_type": "markdown",
   "id": "1c8e9f85",
   "metadata": {},
   "source": [
    "No evidence that the new algorithm is better. But let's check that we have different sigmas (we can't do it in frquentist ANOVA btw)"
   ]
  },
  {
   "cell_type": "code",
   "execution_count": 50,
   "id": "0cae28ea",
   "metadata": {},
   "outputs": [
    {
     "name": "stderr",
     "output_type": "stream",
     "text": [
      "<ipython-input-50-48d4e689c16d>:16: FutureWarning: In v4.0, pm.sample will return an `arviz.InferenceData` object instead of a `MultiTrace` by default. You can pass return_inferencedata=True or return_inferencedata=False to be safe and silence this warning.\n",
      "  posterior = pm.sample(draws=1000, tune=3000, random_seed=42)#, chains=1, progressbar=False)\n",
      "Auto-assigning NUTS sampler...\n",
      "Initializing NUTS using jitter+adapt_diag...\n",
      "/Users/ailin/opt/miniconda3/envs/trips/lib/python3.9/site-packages/aesara/graph/fg.py:525: UserWarning: Variable Elemwise{mul,no_inplace}.0 cannot be replaced; it isn't in the FunctionGraph\n",
      "  warnings.warn(\n",
      "Multiprocess sampling (4 chains in 4 jobs)\n",
      "NUTS: [alpha_1, mu, sigma_2, sigma_1]\n"
     ]
    },
    {
     "data": {
      "text/html": [
       "\n",
       "    <div>\n",
       "        <style>\n",
       "            /* Turns off some styling */\n",
       "            progress {\n",
       "                /* gets rid of default border in Firefox and Opera. */\n",
       "                border: none;\n",
       "                /* Needs to be in here for Safari polyfill so background images work as expected. */\n",
       "                background-size: auto;\n",
       "            }\n",
       "            .progress-bar-interrupted, .progress-bar-interrupted::-webkit-progress-bar {\n",
       "                background: #F44336;\n",
       "            }\n",
       "        </style>\n",
       "      <progress value='16000' class='' max='16000' style='width:300px; height:20px; vertical-align: middle;'></progress>\n",
       "      100.00% [16000/16000 00:10<00:00 Sampling 4 chains, 9 divergences]\n",
       "    </div>\n",
       "    "
      ],
      "text/plain": [
       "<IPython.core.display.HTML object>"
      ]
     },
     "metadata": {},
     "output_type": "display_data"
    },
    {
     "name": "stderr",
     "output_type": "stream",
     "text": [
      "Sampling 4 chains for 3_000 tune and 1_000 draw iterations (12_000 + 4_000 draws total) took 22 seconds.\n",
      "There was 1 divergence after tuning. Increase `target_accept` or reparameterize.\n",
      "There were 5 divergences after tuning. Increase `target_accept` or reparameterize.\n",
      "There were 3 divergences after tuning. Increase `target_accept` or reparameterize.\n",
      "/Users/ailin/opt/miniconda3/envs/trips/lib/python3.9/site-packages/arviz/data/io_pymc3.py:96: FutureWarning: Using `from_pymc3` without the model will be deprecated in a future release. Not using the model will return less accurate and less useful results. Make sure you use the model argument or call from_pymc3 within a model context.\n",
      "  warnings.warn(\n"
     ]
    },
    {
     "data": {
      "text/html": [
       "<div>\n",
       "<style scoped>\n",
       "    .dataframe tbody tr th:only-of-type {\n",
       "        vertical-align: middle;\n",
       "    }\n",
       "\n",
       "    .dataframe tbody tr th {\n",
       "        vertical-align: top;\n",
       "    }\n",
       "\n",
       "    .dataframe thead th {\n",
       "        text-align: right;\n",
       "    }\n",
       "</style>\n",
       "<table border=\"1\" class=\"dataframe\">\n",
       "  <thead>\n",
       "    <tr style=\"text-align: right;\">\n",
       "      <th></th>\n",
       "      <th>mean</th>\n",
       "      <th>sd</th>\n",
       "      <th>hdi_3%</th>\n",
       "      <th>hdi_97%</th>\n",
       "      <th>mcse_mean</th>\n",
       "      <th>mcse_sd</th>\n",
       "      <th>ess_bulk</th>\n",
       "      <th>ess_tail</th>\n",
       "      <th>r_hat</th>\n",
       "    </tr>\n",
       "  </thead>\n",
       "  <tbody>\n",
       "    <tr>\n",
       "      <th>mu</th>\n",
       "      <td>70.008</td>\n",
       "      <td>0.113</td>\n",
       "      <td>69.806</td>\n",
       "      <td>70.218</td>\n",
       "      <td>0.003</td>\n",
       "      <td>0.002</td>\n",
       "      <td>1077.0</td>\n",
       "      <td>1133.0</td>\n",
       "      <td>1.0</td>\n",
       "    </tr>\n",
       "    <tr>\n",
       "      <th>alpha_1</th>\n",
       "      <td>0.007</td>\n",
       "      <td>0.103</td>\n",
       "      <td>-0.182</td>\n",
       "      <td>0.195</td>\n",
       "      <td>0.003</td>\n",
       "      <td>0.002</td>\n",
       "      <td>1011.0</td>\n",
       "      <td>1391.0</td>\n",
       "      <td>1.0</td>\n",
       "    </tr>\n",
       "    <tr>\n",
       "      <th>sigma_1</th>\n",
       "      <td>0.140</td>\n",
       "      <td>0.042</td>\n",
       "      <td>0.081</td>\n",
       "      <td>0.216</td>\n",
       "      <td>0.001</td>\n",
       "      <td>0.001</td>\n",
       "      <td>1593.0</td>\n",
       "      <td>1350.0</td>\n",
       "      <td>1.0</td>\n",
       "    </tr>\n",
       "    <tr>\n",
       "      <th>sigma_2</th>\n",
       "      <td>13.414</td>\n",
       "      <td>3.237</td>\n",
       "      <td>8.370</td>\n",
       "      <td>19.416</td>\n",
       "      <td>0.083</td>\n",
       "      <td>0.060</td>\n",
       "      <td>1672.0</td>\n",
       "      <td>1961.0</td>\n",
       "      <td>1.0</td>\n",
       "    </tr>\n",
       "    <tr>\n",
       "      <th>alpha_0</th>\n",
       "      <td>-0.007</td>\n",
       "      <td>0.103</td>\n",
       "      <td>-0.195</td>\n",
       "      <td>0.182</td>\n",
       "      <td>0.003</td>\n",
       "      <td>0.002</td>\n",
       "      <td>1011.0</td>\n",
       "      <td>1391.0</td>\n",
       "      <td>1.0</td>\n",
       "    </tr>\n",
       "    <tr>\n",
       "      <th>adiff</th>\n",
       "      <td>0.013</td>\n",
       "      <td>0.207</td>\n",
       "      <td>-0.365</td>\n",
       "      <td>0.389</td>\n",
       "      <td>0.006</td>\n",
       "      <td>0.005</td>\n",
       "      <td>1011.0</td>\n",
       "      <td>1391.0</td>\n",
       "      <td>1.0</td>\n",
       "    </tr>\n",
       "  </tbody>\n",
       "</table>\n",
       "</div>"
      ],
      "text/plain": [
       "           mean     sd  hdi_3%  hdi_97%  mcse_mean  mcse_sd  ess_bulk  \\\n",
       "mu       70.008  0.113  69.806   70.218      0.003    0.002    1077.0   \n",
       "alpha_1   0.007  0.103  -0.182    0.195      0.003    0.002    1011.0   \n",
       "sigma_1   0.140  0.042   0.081    0.216      0.001    0.001    1593.0   \n",
       "sigma_2  13.414  3.237   8.370   19.416      0.083    0.060    1672.0   \n",
       "alpha_0  -0.007  0.103  -0.195    0.182      0.003    0.002    1011.0   \n",
       "adiff     0.013  0.207  -0.365    0.389      0.006    0.005    1011.0   \n",
       "\n",
       "         ess_tail  r_hat  \n",
       "mu         1133.0    1.0  \n",
       "alpha_1    1391.0    1.0  \n",
       "sigma_1    1350.0    1.0  \n",
       "sigma_2    1961.0    1.0  \n",
       "alpha_0    1391.0    1.0  \n",
       "adiff      1391.0    1.0  "
      ]
     },
     "execution_count": 50,
     "metadata": {},
     "output_type": "execute_result"
    }
   ],
   "source": [
    "data = [acc_1, acc_2]\n",
    "with pm.Model() as anova:\n",
    "    sigmas = [pm.Exponential('sigma_1', lam=1/10), pm.Exponential('sigma_2', lam=1/10)]\n",
    "    mu = pm.Normal('mu', mu=0, sigma=100/2)\n",
    "\n",
    "    alphas = [0]*2\n",
    "    alphas[1] = pm.Normal('alpha_1', mu=0., sigma=0.1)\n",
    "    alphas[0] = pm.Deterministic('alpha_0', -alphas[1])\n",
    "\n",
    "    accs = [0]*2\n",
    "    for i in range(2):\n",
    "        accs[i] = pm.Normal(f'acc_{i}', mu=mu+alphas[i], sigma=sigmas[i], observed=data[i])\n",
    "\n",
    "    adiff = pm.Deterministic('adiff', alphas[1]-alphas[0])\n",
    "\n",
    "    posterior = pm.sample(draws=1000, tune=3000, random_seed=42)#, chains=1, progressbar=False)\n",
    "\n",
    "q1 = np.quantile(posterior['adiff'], 0.025)\n",
    "q2 = np.quantile(posterior['adiff'], 0.975)\n",
    "az.summary(posterior, )"
   ]
  },
  {
   "cell_type": "code",
   "execution_count": 49,
   "id": "044c703b",
   "metadata": {},
   "outputs": [
    {
     "name": "stdout",
     "output_type": "stream",
     "text": [
      "-0.3766093094436013 <= adiff <= 0.41380102317005857\n"
     ]
    }
   ],
   "source": [
    "print(f\"{q1} <= adiff <= {q2}\")"
   ]
  },
  {
   "cell_type": "markdown",
   "id": "67996e24",
   "metadata": {},
   "source": [
    "Still no evidence"
   ]
  },
  {
   "cell_type": "code",
   "execution_count": null,
   "id": "efb58255",
   "metadata": {},
   "outputs": [],
   "source": []
  }
 ],
 "metadata": {
  "kernelspec": {
   "display_name": "Python 3",
   "language": "python",
   "name": "python3"
  },
  "language_info": {
   "codemirror_mode": {
    "name": "ipython",
    "version": 3
   },
   "file_extension": ".py",
   "mimetype": "text/x-python",
   "name": "python",
   "nbconvert_exporter": "python",
   "pygments_lexer": "ipython3",
   "version": "3.9.5"
  }
 },
 "nbformat": 4,
 "nbformat_minor": 5
}
